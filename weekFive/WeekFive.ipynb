{
 "cells": [
  {
   "cell_type": "code",
   "execution_count": null,
   "metadata": {},
   "outputs": [],
   "source": [
    "# Assignments For Lessons 33 To 37\n",
    "# Task 1\n",
    "print(bool(1))\n",
    "print(bool(15.5))\n",
    "print(bool(True))\n",
    "print(bool({\"1\", \"2\"}))\n",
    "print(bool(0))\n",
    "print(bool(None))\n",
    "print(bool(False))\n",
    "print(bool({}))"
   ]
  },
  {
   "cell_type": "code",
   "execution_count": null,
   "metadata": {},
   "outputs": [],
   "source": [
    "# Task 2\n",
    "html = 80\n",
    "css = 60\n",
    "javascript = 70\n",
    "print(html > 50 and css > 50 and javascript > 50)"
   ]
  },
  {
   "cell_type": "code",
   "execution_count": null,
   "metadata": {},
   "outputs": [],
   "source": [
    "# Task 3\n",
    "html = 80\n",
    "css = 60\n",
    "javascript = 70\n",
    "print(html > 50 and css > 50 and javascript > 50)"
   ]
  },
  {
   "cell_type": "code",
   "execution_count": null,
   "metadata": {},
   "outputs": [],
   "source": [
    "# Task 4\n",
    "num_one = 10\n",
    "num_two = 20\n",
    "num = 20\n",
    "print(num > num_one or num > num_two)\n",
    "print(num > num_one and num > num_two)"
   ]
  },
  {
   "cell_type": "code",
   "execution_count": null,
   "metadata": {},
   "outputs": [],
   "source": [
    "# Task 5\n",
    "num_one = 10\n",
    "num_two = 20\n",
    "result = num_one + num_two\n",
    "print(result)\n",
    "print(result**3)\n",
    "print((result**3) % 2600)\n",
    "print(((result**3) % 2600) / 5)\n",
    "print(type(str(((result**3) % 2600) / 5)))\n",
    "\n",
    "# Second way\n",
    "print(\"-\" * 15)\n",
    "\n",
    "print(result)\n",
    "result **= 3\n",
    "print(result)\n",
    "result %= 26000\n",
    "print(result)\n",
    "result /= 5\n",
    "print(result)\n",
    "result = str(result)\n",
    "print(type(result))"
   ]
  },
  {
   "cell_type": "code",
   "execution_count": 28,
   "metadata": {},
   "outputs": [
    {
     "name": "stdout",
     "output_type": "stream",
     "text": [
      "Hello Adnane, Happy To See You Here.\n"
     ]
    }
   ],
   "source": [
    "# Assignments For Lessons 38 To 40\n",
    "# Task 1\n",
    "Name = input(\"Enter ypur name here\")\n",
    "print(f\"Hello {Name.strip().capitalize()}, Happy To See You Here.\")"
   ]
  },
  {
   "cell_type": "code",
   "execution_count": 30,
   "metadata": {},
   "outputs": [
    {
     "name": "stdout",
     "output_type": "stream",
     "text": [
      "Hello Your Age Is 17, All Articles Is Suitable For You\n"
     ]
    }
   ],
   "source": [
    "# Task 2\n",
    "Age = int(input(\"Enter your age here:\"))\n",
    "print(\n",
    "    \"Hello Your Age Is Under 16, Some Articles Is Not Suitable For You\"\n",
    "    if Age < 16\n",
    "    else f\"Hello Your Age Is {Age}, All Articles Is Suitable For You\"\n",
    ")"
   ]
  },
  {
   "cell_type": "code",
   "execution_count": 31,
   "metadata": {},
   "outputs": [
    {
     "name": "stdout",
     "output_type": "stream",
     "text": [
      "Hello Adnane B.\n"
     ]
    }
   ],
   "source": [
    "# Task 3\n",
    "fname = input(\"Enter your First Name: \").strip().capitalize()\n",
    "lname = input(\"Enter your Last Name: \").strip().capitalize()\n",
    "print(f\"Hello {fname} {lname:.1s}.\")"
   ]
  },
  {
   "cell_type": "code",
   "execution_count": 32,
   "metadata": {},
   "outputs": [
    {
     "name": "stdout",
     "output_type": "stream",
     "text": [
      "Your Name is <built-in method capitalize of str object at 0x00000206C8318D70>\n",
      "Email Service Provider Is nn\n",
      "Your Name is <built-in method capitalize of str object at 0x00000206C82E2C30>\n"
     ]
    }
   ],
   "source": [
    "# Task 4\n",
    "email = input(\"Enter your email: \").strip().lower()\n",
    "print(f\"Your Name is {email[:email.index('@')].capitalize()}\")\n",
    "print(f\"Email Service Provider Is {email[email.index('@')+1:email.index('.')]}\")\n",
    "print(f\"Your Name is {email[email.index('.')+1:].capitalize()}\")"
   ]
  }
 ],
 "metadata": {
  "kernelspec": {
   "display_name": "Python 3",
   "language": "python",
   "name": "python3"
  },
  "language_info": {
   "codemirror_mode": {
    "name": "ipython",
    "version": 3
   },
   "file_extension": ".py",
   "mimetype": "text/x-python",
   "name": "python",
   "nbconvert_exporter": "python",
   "pygments_lexer": "ipython3",
   "version": "3.11.4"
  },
  "orig_nbformat": 4
 },
 "nbformat": 4,
 "nbformat_minor": 2
}
