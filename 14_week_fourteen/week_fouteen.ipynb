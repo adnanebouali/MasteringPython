{
 "cells": [
  {
   "cell_type": "markdown",
   "metadata": {},
   "source": [
    "### Assignments For Lessons 41 To 46"
   ]
  },
  {
   "cell_type": "markdown",
   "metadata": {},
   "source": [
    "##### Task 1"
   ]
  },
  {
   "cell_type": "code",
   "execution_count": null,
   "metadata": {},
   "outputs": [],
   "source": [
    "class Game:\n",
    "    def __init__(self,name,dev,year,price):\n",
    "        self.name=name\n",
    "        self.developer=dev\n",
    "        self.year=year\n",
    "        self.price=price\n",
    "    def price_in_pounds(self):\n",
    "        return self.price * 15.6\n",
    "\n",
    "game_one = Game(\"Ys\", \"Falcom\", 2010, 50)\n",
    "\n",
    "print(f\"Game Name Is \\\"{game_one.name}\\\", \", end=\"\")\n",
    "print(f\"Developer Is \\\"{game_one.developer}\\\", \", end=\"\")\n",
    "print(f\"Release Date Is \\\"{game_one.year}\\\", \", end=\"\")\n",
    "print(f\"Price In Egypt Is {game_one.price_in_pounds()}\", end=\"\")"
   ]
  },
  {
   "cell_type": "markdown",
   "metadata": {},
   "source": [
    "##### Task 2"
   ]
  },
  {
   "cell_type": "code",
   "execution_count": null,
   "metadata": {},
   "outputs": [],
   "source": [
    "class User:\n",
    "    def __init__(self,fname,lname,age,gender):\n",
    "        self.fname=fname\n",
    "        self.lname=lname\n",
    "        self.age=age\n",
    "        self.gender=gender\n",
    "    def full_details(self):\n",
    "        if self.gender == \"Male\":\n",
    "            return (f\"Hello Mr {self.fname} {self.lname:.1s}. [{self.age - 40}] Years To Reach 40\")\n",
    "        elif self.gender == \"Female\":\n",
    "            return (f\"Hello Mrs {self.fname} {self.lname:.1s}. [{self.age - 40}] Years To Reach 40\")\n",
    "        else:\n",
    "            return (f\"Hello {self.fname} {self.lname:.1s}. [{self.age - 40}] Years To Reach 40\")\n",
    "\n",
    "user_one = User(\"Osama\", \"Mohamed\", 38, \"Male\")\n",
    "user_two = User(\"Eman\", \"Omar\", 25, \"Female\")\n",
    "user_three = User(\"Adnane\", \"Bouali\", 24, \"unknown\")\n",
    "\n",
    "print(user_one.full_details()) # Hello Mr Osama M. [02] Years To Reach 40\n",
    "print(user_two.full_details()) # Hello Mrs Eman O. [15] Years To Reach 40\n",
    "print(user_three.full_details()) "
   ]
  },
  {
   "cell_type": "markdown",
   "metadata": {},
   "source": [
    "##### Task 3"
   ]
  },
  {
   "cell_type": "code",
   "execution_count": null,
   "metadata": {},
   "outputs": [],
   "source": [
    "class Message:\n",
    "    @classmethod\n",
    "    def print_message(cls):\n",
    "        return \"Hello From Class Message\"\n",
    "\n",
    "print(Message.print_message())\n",
    "# Output\n",
    "# Hello From Class Message"
   ]
  },
  {
   "cell_type": "markdown",
   "metadata": {},
   "source": [
    "##### Task 4"
   ]
  },
  {
   "cell_type": "code",
   "execution_count": null,
   "metadata": {},
   "outputs": [],
   "source": [
    "class Games:\n",
    "    def __init__(self,game):\n",
    "        self.game=game\n",
    "    \n",
    "    def show_games(self):\n",
    "        if type(self.game) is str:\n",
    "            print(f\"I Have One Game Called \\\"{self.game}\\\"\")\n",
    "        if type(self.game) is list:\n",
    "            print(\"I Have Many Games:\")\n",
    "            for g in self.game:\n",
    "                print(f\"-- \\\"{g}\\\"\")\n",
    "        if type(self.game) is int:\n",
    "            print(f\"I Have {self.game} Games\")\n",
    "\n",
    "my_game = Games(\"Shadow Of Mordor\")\n",
    "my_games_names = Games([\"Ys II\", \"Ys Oath In Felghana\", \"YS Origin\"])\n",
    "my_games_count = Games(80)\n",
    "\n",
    "my_game.show_games()\n",
    "my_games_names.show_games()\n",
    "my_games_count.show_games()\n",
    "\n"
   ]
  },
  {
   "cell_type": "markdown",
   "metadata": {},
   "source": [
    "##### Task 5"
   ]
  },
  {
   "cell_type": "code",
   "execution_count": null,
   "metadata": {},
   "outputs": [],
   "source": [
    "# Main Class\n",
    "class Members:\n",
    "    def __init__(self, n, p):\n",
    "        self.name = n\n",
    "        self.permission = p\n",
    "    def show_info(self):\n",
    "        return f\"Your Name Is {self.name} And You Are {self.permission}\"\n",
    "\n",
    "# Create Admin Class Here\n",
    "class Admins(Members):\n",
    "    def __init__(self, n, p):\n",
    "        super().__init__(n, p)\n",
    "    \n",
    "    def show_info(self):\n",
    "        return f\"Name Is {self.name} Your Privilege is {self.permission}\"\n",
    "\n",
    "# Create Moderators Class Here\n",
    "class Moderators(Members):\n",
    "    pass\n",
    "\n",
    "member_one = Admins(\"Osama\", \"Admin\")\n",
    "member_two = Moderators(\"Ahmed\", \"Moderator\")\n",
    "\n",
    "print(member_one.show_info())\n",
    "\n",
    "\n",
    "print(member_two.show_info())\n",
    "\n",
    "\n"
   ]
  },
  {
   "cell_type": "markdown",
   "metadata": {},
   "source": [
    "##### Task 6"
   ]
  },
  {
   "cell_type": "code",
   "execution_count": null,
   "metadata": {},
   "outputs": [],
   "source": [
    "class A:\n",
    "    def __init__(self, one):\n",
    "        self.one = one\n",
    "class B:\n",
    "    def __init__(self, two):\n",
    "        self.two = two\n",
    "class C:\n",
    "    def __init__(self, three):\n",
    "        self.three = three\n",
    "\n",
    "# Write The Class Called \"Text\" Here\n",
    "class Text(A,B,C):\n",
    "    def __init__(self,one,two,three):\n",
    "        super().__init__(one)\n",
    "        B.__init__(self,two)\n",
    "        C.__init__(self,three)\n",
    "    def show_name(self):\n",
    "        return f\"The Name is {self.one}{self.two}{self.three}\"\n",
    "\n",
    "the_name = Text(\"El\", \"ze\", \"ro\")\n",
    "\n",
    "print(the_name.show_name())\n",
    "\n",
    "# Ouput\n",
    "# The Name Is Elzero\n"
   ]
  }
 ],
 "metadata": {
  "kernelspec": {
   "display_name": "Python 3",
   "language": "python",
   "name": "python3"
  },
  "language_info": {
   "codemirror_mode": {
    "name": "ipython",
    "version": 3
   },
   "file_extension": ".py",
   "mimetype": "text/x-python",
   "name": "python",
   "nbconvert_exporter": "python",
   "pygments_lexer": "ipython3",
   "version": "3.11.4"
  },
  "orig_nbformat": 4
 },
 "nbformat": 4,
 "nbformat_minor": 2
}
