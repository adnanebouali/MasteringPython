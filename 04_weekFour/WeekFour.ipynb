{
 "cells": [
  {
   "cell_type": "code",
   "execution_count": null,
   "metadata": {},
   "outputs": [],
   "source": [
    "# Assignments For Lessons 26 To 32\n",
    "# Task 1\n",
    "my_list = [1, 2, 3, 3, 4, 5, 1]\n",
    "unique_list=set(my_list)\n",
    "my_list = list(unique_list)\n",
    "print(my_list)\n",
    "print(type(my_list))\n",
    "print(my_list[:-1:])\n"
   ]
  },
  {
   "cell_type": "code",
   "execution_count": null,
   "metadata": {},
   "outputs": [],
   "source": [
    "# Task 2\n",
    "nums = {1, 2, 3}\n",
    "letters = {\"A\", \"B\", \"C\"}\n",
    "print(nums.union(letters))\n",
    "print(nums | letters)\n",
    "nums.update(letters)\n",
    "print(nums)\n"
   ]
  },
  {
   "cell_type": "code",
   "execution_count": null,
   "metadata": {},
   "outputs": [],
   "source": [
    "# Task 3\n",
    "my_set = {1, 2, 3}\n",
    "letters = {\"A\", \"B\", \"C\"}\n",
    "print(my_set)\n",
    "my_set.clear()\n",
    "print(my_set)\n",
    "my_set.update(\"A\",\"B\")\n",
    "print(my_set)\n",
    "my_set.discard(\"C\")"
   ]
  },
  {
   "cell_type": "code",
   "execution_count": null,
   "metadata": {},
   "outputs": [],
   "source": [
    "# Task 4\n",
    "set_one = {1, 2, 3}\n",
    "set_two = {1, 2, 3, 4, 5, 6}\n",
    "print(set_one.issubset(set_two))\n"
   ]
  },
  {
   "cell_type": "code",
   "execution_count": null,
   "metadata": {},
   "outputs": [],
   "source": [
    "# Task 5\n",
    "MyLang = {\n",
    "    \"L1\": {\n",
    "        \"name\": \"HTML\",\n",
    "        \"progress\": 90\n",
    "    },\n",
    "    \"L2\": {\n",
    "        \"name\": \"CSS\",\n",
    "        \"progress\": 80\n",
    "    },\n",
    "    \"L3\": {\n",
    "        \"name\": \"JS\",\n",
    "        \"progress\": 60\n",
    "    }\n",
    "}\n",
    "print(f\"{MyLang['L1']['name']} Progress is {MyLang['L1']['progress']}\")\n",
    "print(f\"{MyLang['L2']['name']} Progress is {MyLang['L2']['progress']}\")\n",
    "print(f\"{MyLang['L3']['name']} Progress is {MyLang['L3']['progress']}\")\n",
    "MyLang[\"L4\"]={\n",
    "        \"name\": \"AI\",\n",
    "        \"progress\": 50\n",
    "    }\n",
    "print(f\"{MyLang['L4']['name']} Progress is {MyLang['L4']['progress']}\")\n",
    "print(MyLang)"
   ]
  }
 ],
 "metadata": {
  "kernelspec": {
   "display_name": "Python 3",
   "language": "python",
   "name": "python3"
  },
  "language_info": {
   "codemirror_mode": {
    "name": "ipython",
    "version": 3
   },
   "file_extension": ".py",
   "mimetype": "text/x-python",
   "name": "python",
   "nbconvert_exporter": "python",
   "pygments_lexer": "ipython3",
   "version": "3.11.4"
  },
  "orig_nbformat": 4
 },
 "nbformat": 4,
 "nbformat_minor": 2
}
