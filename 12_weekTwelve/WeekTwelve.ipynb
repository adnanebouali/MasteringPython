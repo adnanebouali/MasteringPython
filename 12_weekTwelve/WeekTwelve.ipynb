{
 "cells": [
  {
   "cell_type": "code",
   "execution_count": 6,
   "metadata": {},
   "outputs": [
    {
     "name": "stdout",
     "output_type": "stream",
     "text": [
      "Enter The path\n",
      "You have 5 tries left\n",
      "\"Hello from adnane.txt\"  \n",
      "\n",
      "the file is closed\n"
     ]
    }
   ],
   "source": [
    "the_file=None\n",
    "tries =5\n",
    "\n",
    "while tries > 0:\n",
    "    try :\n",
    "        print(\"Enter The path\")\n",
    "        print(f\"You have {tries} tries left\" if tries > 1 else \"Warning!! Last try left\")\n",
    "        file=input(\"File Name => \").strip()\n",
    "        the_file = open(file,\"r\")\n",
    "        print(the_file.read())\n",
    "        break\n",
    "    except FileNotFoundError:\n",
    "        print(f\"Please Be Sure Of The Name Of File\")\n",
    "        tries -= 1\n",
    "\n",
    "    finally:\n",
    "        if the_file is not None:\n",
    "            the_file.close()\n",
    "            print(\"the file is closed\")\n",
    "        \n",
    "else:\n",
    "    print(\"All Tries Are Done\")"
   ]
  }
 ],
 "metadata": {
  "kernelspec": {
   "display_name": "Python 3",
   "language": "python",
   "name": "python3"
  },
  "language_info": {
   "codemirror_mode": {
    "name": "ipython",
    "version": 3
   },
   "file_extension": ".py",
   "mimetype": "text/x-python",
   "name": "python",
   "nbconvert_exporter": "python",
   "pygments_lexer": "ipython3",
   "version": "3.11.4"
  },
  "orig_nbformat": 4
 },
 "nbformat": 4,
 "nbformat_minor": 2
}
