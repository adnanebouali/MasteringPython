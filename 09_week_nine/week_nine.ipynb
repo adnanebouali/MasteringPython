{
 "cells": [
  {
   "cell_type": "markdown",
   "metadata": {},
   "source": [
    "### Assignments For Lessons 65 To 68"
   ]
  },
  {
   "cell_type": "markdown",
   "metadata": {},
   "source": [
    "##### Task 1"
   ]
  },
  {
   "cell_type": "code",
   "execution_count": null,
   "metadata": {},
   "outputs": [],
   "source": [
    "import os\n",
    "\n",
    "myFile=open(r\"D:\\myFiles\\MasteringPython\\09_weekNine\\Python\\assign.py\",\"r\")\n",
    "for num in range(1,51):\n",
    "    if num == 25:\n",
    "        myFiletxt=open(r\"D:\\myFiles\\MasteringPython\\09_weekNine\\Python\\special-text.txt\",\"w\")\n",
    "        continue\n",
    "    myFiletxt=open(rf\"D:\\myFiles\\MasteringPython\\09_weekNine\\Python\\txt{num}.txt\",\"a\")\n",
    "    myFiletxt.write(f\"Elzero Web School => {num}\")\n",
    "    myFiletxt.close()\n"
   ]
  },
  {
   "cell_type": "markdown",
   "metadata": {},
   "source": [
    "##### Task 2"
   ]
  },
  {
   "cell_type": "code",
   "execution_count": null,
   "metadata": {},
   "outputs": [],
   "source": [
    "Filer=open(r\"D:\\myFiles\\MasteringPython\\09_weekNine\\Python\\txt1.txt\",\"a\")\n",
    "for num in range(1,51):\n",
    "    Filer.write(\"\\nAppended => Elzero Web School\")\n",
    "Filer.close()"
   ]
  },
  {
   "cell_type": "markdown",
   "metadata": {},
   "source": [
    "##### Task 3"
   ]
  },
  {
   "cell_type": "code",
   "execution_count": null,
   "metadata": {},
   "outputs": [],
   "source": [
    "File=open(r\"D:\\myFiles\\MasteringPython\\09_weekNine\\Python\\txt1.txt\",\"r\")\n",
    "lines=File.readlines()\n",
    "cowrd=0\n",
    "cochar=0\n",
    "colines=0\n",
    "col=0\n",
    "for line in lines:\n",
    "    colines +=1\n",
    "    for char in line:\n",
    "        cochar +=1\n",
    "        if char==\" \":\n",
    "            cochar -=1\n",
    "            cowrd +=1\n",
    "        elif char == \"=\":\n",
    "            cowrd +=1\n",
    "            cochar -=1\n",
    "        elif char== \"l\":\n",
    "            col +=1\n",
    "\n",
    "print(f\"\"\"Number Of Lines Is => {colines}\n",
    "Number Of Words Is => {cowrd}\n",
    "Number Of Chars Is => {cochar}\n",
    "Number Of \"l\" Char Is => {col}\"\"\")\n",
    "File.close()"
   ]
  }
 ],
 "metadata": {
  "kernelspec": {
   "display_name": "Python 3",
   "language": "python",
   "name": "python3"
  },
  "language_info": {
   "codemirror_mode": {
    "name": "ipython",
    "version": 3
   },
   "file_extension": ".py",
   "mimetype": "text/x-python",
   "name": "python",
   "nbconvert_exporter": "python",
   "pygments_lexer": "ipython3",
   "version": "3.11.4"
  },
  "orig_nbformat": 4
 },
 "nbformat": 4,
 "nbformat_minor": 2
}
