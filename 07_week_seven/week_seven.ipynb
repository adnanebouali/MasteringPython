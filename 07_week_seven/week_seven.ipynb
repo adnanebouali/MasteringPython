{
 "cells": [
  {
   "cell_type": "markdown",
   "metadata": {},
   "source": [
    "### Assignments For Lessons 47 To 50"
   ]
  },
  {
   "cell_type": "markdown",
   "metadata": {},
   "source": [
    "##### Task 1"
   ]
  },
  {
   "cell_type": "code",
   "execution_count": null,
   "metadata": {},
   "outputs": [],
   "source": [
    "num=int(input(\"Enter a number bigger than 0 ::\"))\n",
    "numstimes=0\n",
    "if num <= 0 :\n",
    "    print(\"The number is smaller than or eqauls 0\")\n",
    "else:\n",
    "    while num > 1:\n",
    "        num -=1\n",
    "        if num == 6:\n",
    "            pass\n",
    "        else:\n",
    "            numstimes +=1\n",
    "            print(f\"{[ num ]}\")\n",
    "    print(f\"All The number were printed successfully {numstimes} Times\")"
   ]
  },
  {
   "cell_type": "markdown",
   "metadata": {},
   "source": [
    "##### Task 2"
   ]
  },
  {
   "cell_type": "code",
   "execution_count": null,
   "metadata": {},
   "outputs": [],
   "source": [
    "friends = [\"Mohamed\", \"Shady\", \"ahmed\", \"eman\", \"Sherif\"]\n",
    "i = 0\n",
    "som = 0\n",
    "while i < len(friends):\n",
    "    if friends[i] == friends[i].lower():\n",
    "        i += 1\n",
    "        som += 1\n",
    "        continue\n",
    "    print(friends[i])\n",
    "    i += 1\n",
    "print(f\"Friends Printed And Ignored Names Count Is {som}\")"
   ]
  },
  {
   "cell_type": "markdown",
   "metadata": {},
   "source": [
    "##### Task 3"
   ]
  },
  {
   "cell_type": "code",
   "execution_count": null,
   "metadata": {},
   "outputs": [],
   "source": [
    "skills = [\"HTML\", \"CSS\", \"JavaScript\", \"PHP\", \"Python\"]\n",
    "while skills:\n",
    "    print(f\"{skills.pop(0)}\")"
   ]
  },
  {
   "cell_type": "markdown",
   "metadata": {},
   "source": [
    "##### Task 4"
   ]
  },
  {
   "cell_type": "code",
   "execution_count": null,
   "metadata": {},
   "outputs": [],
   "source": [
    "my_friends = []\n",
    "counter = 4\n",
    "while counter != 0:\n",
    "    name = input(\"Enter your name :\").strip()\n",
    "    if name == name.upper():\n",
    "        print(\"Invalid Name\")\n",
    "    elif name == name.capitalize():\n",
    "        print(f\"Friend {name} Added\")\n",
    "        counter -= 1\n",
    "    else:\n",
    "        my_friends.append(name.lower().capitalize())\n",
    "        print(f\"Friend {name} Added => 1st Letter Become Capital\")\n",
    "        counter -= 1\n",
    "    print(f\"Names left in the list :: {counter}\" if counter != 0 else \"The list is full\")\n",
    "\n",
    "print(my_friends)"
   ]
  },
  {
   "cell_type": "markdown",
   "metadata": {},
   "source": [
    "### Assignments For Lessons 51 To 55"
   ]
  },
  {
   "cell_type": "markdown",
   "metadata": {},
   "source": [
    "##### Task 1"
   ]
  },
  {
   "cell_type": "code",
   "execution_count": null,
   "metadata": {},
   "outputs": [],
   "source": [
    "my_nums = [15, 81, 5, 17, 20, 21, 13]\n",
    "my_nums.sort(reverse=True)\n",
    "co = 0\n",
    "for num in my_nums:\n",
    "    if num % 5 == 0:\n",
    "        co += 1\n",
    "        print(f\"{co} => {num}\")\n",
    "else:\n",
    "    print(\"All Numbers Printed\")"
   ]
  },
  {
   "cell_type": "markdown",
   "metadata": {},
   "source": [
    "##### Task 2"
   ]
  },
  {
   "cell_type": "code",
   "execution_count": null,
   "metadata": {},
   "outputs": [],
   "source": [
    "for num in range(1,21):\n",
    "    if num in [6,8,12]:\n",
    "        continue\n",
    "    print(str(num).zfill(2))\n",
    "else:\n",
    "    print(\"All Numbers Printed\")"
   ]
  },
  {
   "cell_type": "markdown",
   "metadata": {},
   "source": [
    "##### Task 3"
   ]
  },
  {
   "cell_type": "code",
   "execution_count": null,
   "metadata": {},
   "outputs": [],
   "source": [
    "my_ranks = {\n",
    "    'Math': 'A',\n",
    "    \"Science\": 'B',\n",
    "    'Drawing': 'A',\n",
    "    'Sports': 'C'\n",
    "}\n",
    "sum=0\n",
    "for sub in my_ranks:\n",
    "    if my_ranks[sub]== \"A\":\n",
    "        sum +=100\n",
    "        print(f\"My Rank in {sub} Is {my_ranks[sub]} And This Equal 100 Points\")\n",
    "    elif my_ranks[sub]== \"B\":\n",
    "        sum +=80\n",
    "        print(f\"My Rank in {sub} Is {my_ranks[sub]} And This Equal 80 Points\")\n",
    "    elif my_ranks[sub]== \"C\":\n",
    "        sum +=40\n",
    "        print(f\"My Rank in {sub} Is {my_ranks[sub]} And This Equal 40 Points\")\n",
    "print(f\"Total Points Is {sum}\")\n"
   ]
  },
  {
   "cell_type": "markdown",
   "metadata": {},
   "source": [
    "##### Task 4"
   ]
  },
  {
   "cell_type": "code",
   "execution_count": null,
   "metadata": {},
   "outputs": [],
   "source": [
    "students = {\n",
    "    \"Ahmed\": {\n",
    "    \"Math\": \"A\",\n",
    "    \"Science\": \"D\",\n",
    "    \"Draw\": \"B\",\n",
    "    \"Sports\": \"C\",\n",
    "    \"Thinking\": \"A\"\n",
    "},\n",
    "    \"Sayed\": {\n",
    "    \"Math\": \"B\",\n",
    "    \"Science\": \"B\",\n",
    "    \"Draw\": \"B\",\n",
    "    \"Sports\": \"D\",\n",
    "    \"Thinking\": \"A\"\n",
    "},\n",
    "    \"Mahmoud\": {\n",
    "    \"Math\": \"D\",\n",
    "    \"Science\": \"A\",\n",
    "    \"Draw\": \"A\",\n",
    "    \"Sports\": \"B\",\n",
    "    \"Thinking\": \"B\"\n",
    "}\n",
    "}\n",
    "sum=0\n",
    "for name in students:\n",
    "    print(\"-\"*30+f\"\\n-- Student Name => {name}\\n\"+\"-\"*30)\n",
    "    sum=0\n",
    "    for rank in students[name]:\n",
    "        if students[name][rank]== \"A\":\n",
    "            print(f\"{rank} => 100 Points\")\n",
    "            sum +=100\n",
    "        elif students[name][rank]== \"B\":\n",
    "            print(f\"{rank} => 80 Points\")\n",
    "            sum +=80\n",
    "        elif students[name][rank]== \"C\":\n",
    "            print(f\"{rank} => 40 Points\")\n",
    "            sum +=40\n",
    "        elif students[name][rank]== \"D\":\n",
    "            print(f\"{rank} => 20 Points\")\n",
    "            sum +=20\n",
    "    print(f\"Total Points For {name} Is {sum}\")\n",
    "\n"
   ]
  },
  {
   "cell_type": "markdown",
   "metadata": {},
   "source": [
    "##### Task 4 Second way"
   ]
  },
  {
   "cell_type": "code",
   "execution_count": null,
   "metadata": {},
   "outputs": [],
   "source": [
    "students = {\n",
    "    \"Ahmed\": {\n",
    "    \"Math\": \"A\",\n",
    "    \"Science\": \"D\",\n",
    "    \"Draw\": \"B\",\n",
    "    \"Sports\": \"C\",\n",
    "    \"Thinking\": \"A\"\n",
    "},\n",
    "    \"Sayed\": {\n",
    "    \"Math\": \"B\",\n",
    "    \"Science\": \"B\",\n",
    "    \"Draw\": \"B\",\n",
    "    \"Sports\": \"D\",\n",
    "    \"Thinking\": \"A\"\n",
    "},\n",
    "    \"Mahmoud\": {\n",
    "    \"Math\": \"D\",\n",
    "    \"Science\": \"A\",\n",
    "    \"Draw\": \"A\",\n",
    "    \"Sports\": \"B\",\n",
    "    \"Thinking\": \"B\"\n",
    "}\n",
    "}\n",
    "sum=0\n",
    "for name,subjcts in students.items():\n",
    "    print(\"-\"*30+f\"\\n-- Student Name => {name}\\n\"+\"-\"*30)\n",
    "    sum=0\n",
    "    for subj,rank in subjcts.items() :\n",
    "        if rank == \"A\":\n",
    "            print(f\"{subj} => 100 Points\")\n",
    "            sum +=100\n",
    "        elif rank== \"B\":\n",
    "            print(f\"{subj} => 80 Points\")\n",
    "            sum +=80\n",
    "        elif rank== \"C\":\n",
    "            print(f\"{subj} => 40 Points\")\n",
    "            sum +=40\n",
    "        elif rank== \"D\":\n",
    "            print(f\"{subj} => 20 Points\")\n",
    "            sum +=20\n",
    "    print(f\"Total Points For {name} Is {sum}\")"
   ]
  }
 ],
 "metadata": {
  "kernelspec": {
   "display_name": "Python 3",
   "language": "python",
   "name": "python3"
  },
  "language_info": {
   "codemirror_mode": {
    "name": "ipython",
    "version": 3
   },
   "file_extension": ".py",
   "mimetype": "text/x-python",
   "name": "python",
   "nbconvert_exporter": "python",
   "pygments_lexer": "ipython3",
   "version": "3.11.4"
  },
  "orig_nbformat": 4
 },
 "nbformat": 4,
 "nbformat_minor": 2
}
