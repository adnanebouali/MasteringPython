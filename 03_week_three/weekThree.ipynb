{
 "cells": [
  {
   "cell_type": "markdown",
   "metadata": {},
   "source": [
    "### Assignments For Lessons 19 To 20 "
   ]
  },
  {
   "cell_type": "markdown",
   "metadata": {},
   "source": [
    "##### Task 1"
   ]
  },
  {
   "cell_type": "code",
   "execution_count": null,
   "metadata": {},
   "outputs": [],
   "source": [
    "print(type(1))\n",
    "print(type(10.2))\n",
    "print(type(15+5j))\n"
   ]
  },
  {
   "cell_type": "markdown",
   "metadata": {},
   "source": [
    "##### Task 2"
   ]
  },
  {
   "cell_type": "code",
   "execution_count": null,
   "metadata": {},
   "outputs": [],
   "source": [
    "print(1+2j.real)\n",
    "print(1+2j.imag)\n"
   ]
  },
  {
   "cell_type": "markdown",
   "metadata": {},
   "source": [
    "##### Task 3"
   ]
  },
  {
   "cell_type": "code",
   "execution_count": null,
   "metadata": {},
   "outputs": [],
   "source": [
    "num = 10\n",
    "print(\"{:.10f}\".format(num))"
   ]
  },
  {
   "cell_type": "markdown",
   "metadata": {},
   "source": [
    "##### Task 4"
   ]
  },
  {
   "cell_type": "code",
   "execution_count": null,
   "metadata": {},
   "outputs": [],
   "source": [
    "num = 159.650\n",
    "print(int(num))\n",
    "print(type(int(num)))"
   ]
  },
  {
   "cell_type": "markdown",
   "metadata": {},
   "source": [
    "##### Task 5"
   ]
  },
  {
   "cell_type": "code",
   "execution_count": null,
   "metadata": {},
   "outputs": [],
   "source": [
    "print(100 - 115) \n",
    "print(50 * 30) \n",
    "print(21 % 4) \n",
    "print(110 // 11)\n",
    "print(97 // 20)"
   ]
  },
  {
   "cell_type": "markdown",
   "metadata": {},
   "source": [
    "### Assignments For Lessons 21 To 23"
   ]
  },
  {
   "cell_type": "markdown",
   "metadata": {},
   "source": [
    "##### Task 1"
   ]
  },
  {
   "cell_type": "code",
   "execution_count": null,
   "metadata": {},
   "outputs": [],
   "source": [
    "friends = [\"Osama\", \"Ahmed\", \"Sayed\", \"Ali\", \"Mahmoud\"]\n",
    "print(friends[0])\n",
    "print(friends[-5])\n",
    "print(friends[-1])\n",
    "print(friends[4])\n"
   ]
  },
  {
   "cell_type": "markdown",
   "metadata": {},
   "source": [
    "##### Task 2"
   ]
  },
  {
   "cell_type": "code",
   "execution_count": null,
   "metadata": {},
   "outputs": [],
   "source": [
    "friends = [\"Osama\", \"Ahmed\", \"Sayed\", \"Ali\", \"Mahmoud\"]\n",
    "print(friends[::2])\n",
    "print(friends[1::2])"
   ]
  },
  {
   "cell_type": "markdown",
   "metadata": {},
   "source": [
    "##### Task 3"
   ]
  },
  {
   "cell_type": "code",
   "execution_count": null,
   "metadata": {},
   "outputs": [],
   "source": [
    "friends = [\"Osama\", \"Ahmed\", \"Sayed\", \"Ali\", \"Mahmoud\"]\n",
    "print(friends[1:4])\n",
    "print(friends[-2:])"
   ]
  },
  {
   "cell_type": "markdown",
   "metadata": {},
   "source": [
    "##### Task 4"
   ]
  },
  {
   "cell_type": "code",
   "execution_count": null,
   "metadata": {},
   "outputs": [],
   "source": [
    "friends = [\"Osama\", \"Ahmed\", \"Sayed\", \"Ali\", \"Mahmoud\"]\n",
    "friends[-2:]=[\"Elzero\", \"Elzero\"]\n",
    "print(friends)"
   ]
  },
  {
   "cell_type": "markdown",
   "metadata": {},
   "source": [
    "##### Task 5"
   ]
  },
  {
   "cell_type": "code",
   "execution_count": null,
   "metadata": {},
   "outputs": [],
   "source": [
    "friends = [\"Osama\", \"Ahmed\", \"Sayed\"]\n",
    "friends.insert(0,\"Nasser\")\n",
    "print(friends)\n",
    "friends.append(\"Salem\")\n",
    "print(friends)"
   ]
  },
  {
   "cell_type": "markdown",
   "metadata": {},
   "source": [
    "##### Task 6"
   ]
  },
  {
   "cell_type": "code",
   "execution_count": null,
   "metadata": {},
   "outputs": [],
   "source": [
    "friends = [\"Nasser\", \"Osama\", \"Ahmed\", \"Sayed\", \"Salem\"]\n",
    "del friends[0:2]\n",
    "print(friends)\n",
    "friends.remove(\"Salem\")\n",
    "print(friends)"
   ]
  },
  {
   "cell_type": "markdown",
   "metadata": {},
   "source": [
    "##### Task 7"
   ]
  },
  {
   "cell_type": "code",
   "execution_count": null,
   "metadata": {},
   "outputs": [],
   "source": [
    "# 1st way\n",
    "friends = [\"Ahmed\", \"Sayed\"]\n",
    "employees = [\"Samah\", \"Eman\"]\n",
    "school = [\"Ramy\", \"Shady\"]\n",
    "print(friends+ employees+ school)\n",
    "# 2nd way\n",
    "friends.extend(employees)\n",
    "friends.extend(school)\n",
    "print(friends)"
   ]
  },
  {
   "cell_type": "markdown",
   "metadata": {},
   "source": [
    "##### Task 8"
   ]
  },
  {
   "cell_type": "code",
   "execution_count": null,
   "metadata": {},
   "outputs": [],
   "source": [
    "friends = [\"Ahmed\", \"Sayed\", \"Samah\", \"Eman\", \"Ramy\", \"Shady\"]\n",
    "friends.sort()\n",
    "print(friends)\n",
    "friends.sort(reverse=True)\n",
    "print(friends)\n"
   ]
  },
  {
   "cell_type": "markdown",
   "metadata": {},
   "source": [
    "##### Task 9"
   ]
  },
  {
   "cell_type": "code",
   "execution_count": null,
   "metadata": {},
   "outputs": [],
   "source": [
    "friends = [\"Ahmed\", \"Sayed\", \"Samah\", \"Eman\", \"Ramy\", \"Shady\"]\n",
    "print(len(friends))"
   ]
  },
  {
   "cell_type": "markdown",
   "metadata": {},
   "source": [
    "##### Task 10"
   ]
  },
  {
   "cell_type": "code",
   "execution_count": null,
   "metadata": {},
   "outputs": [],
   "source": [
    "technologies = [\"Html\", \"CSS\", \"JS\", \"Python\", [\"Django\", \"Flask\", \"Web\"]]\n",
    "print(technologies[4][0])\n",
    "print(technologies[4][-1])\n",
    "\n",
    "# Needed Output\n",
    "# Django\n",
    "# Web"
   ]
  },
  {
   "cell_type": "markdown",
   "metadata": {},
   "source": [
    "### Assignments For Lessons 24 To 25"
   ]
  },
  {
   "cell_type": "markdown",
   "metadata": {},
   "source": [
    "##### Task 1"
   ]
  },
  {
   "cell_type": "code",
   "execution_count": null,
   "metadata": {},
   "outputs": [],
   "source": [
    "MyTuple = \"Ossama\",\n",
    "print(MyTuple)\n",
    "print(type(MyTuple))"
   ]
  },
  {
   "cell_type": "markdown",
   "metadata": {},
   "source": [
    "##### Task 2"
   ]
  },
  {
   "cell_type": "code",
   "execution_count": null,
   "metadata": {},
   "outputs": [],
   "source": [
    "friends = (\"Osama\", \"Ahmed\", \"Sayed\")\n",
    "friends=list(friends)\n",
    "friends[0]=\"Elzero\"\n",
    "friends=tuple(friends)\n",
    "print(friends)\n",
    "print(type(friends))\n",
    "print(f\"{len(friends)} Elements\")"
   ]
  },
  {
   "cell_type": "markdown",
   "metadata": {},
   "source": [
    "##### Task 3"
   ]
  },
  {
   "cell_type": "code",
   "execution_count": null,
   "metadata": {},
   "outputs": [],
   "source": [
    "nums = (1, 2, 3)\n",
    "letters = (\"A\", \"B\", \"C\")\n",
    "newTupl=nums+letters\n",
    "print(newTupl)\n",
    "print(f\"{len(newTupl)} Elements\")\n",
    "\n",
    "# Needed Output\n",
    "\n",
    "# nums_and_letters_one = (1, 2, 3, \"A\", \"B\", \"C\")\n",
    "# 6 Elements"
   ]
  },
  {
   "cell_type": "markdown",
   "metadata": {},
   "source": [
    "##### Task 4"
   ]
  },
  {
   "cell_type": "code",
   "execution_count": null,
   "metadata": {},
   "outputs": [],
   "source": [
    "my_tuple = (1, 2, 3,4)\n",
    "a,b,_,c=my_tuple\n",
    "print(a)\n",
    "print(b)\n",
    "print(c)\n"
   ]
  }
 ],
 "metadata": {
  "kernelspec": {
   "display_name": "Python 3",
   "language": "python",
   "name": "python3"
  },
  "language_info": {
   "codemirror_mode": {
    "name": "ipython",
    "version": 3
   },
   "file_extension": ".py",
   "mimetype": "text/x-python",
   "name": "python",
   "nbconvert_exporter": "python",
   "pygments_lexer": "ipython3",
   "version": "3.11.4"
  },
  "orig_nbformat": 4
 },
 "nbformat": 4,
 "nbformat_minor": 2
}
