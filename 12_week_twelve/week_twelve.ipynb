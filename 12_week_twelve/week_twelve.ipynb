{
 "cells": [
  {
   "cell_type": "markdown",
   "metadata": {},
   "source": [
    "### Assignments For Lessons 86 To 89 "
   ]
  },
  {
   "cell_type": "markdown",
   "metadata": {},
   "source": [
    "##### Task 1"
   ]
  },
  {
   "cell_type": "code",
   "execution_count": null,
   "metadata": {},
   "outputs": [],
   "source": [
    "my_list = [\"E\", \"Z\", \"R\", 1, 2, 3]\n",
    "my_tuple = (\"L\", \"E\", \"O\")\n",
    "my_data = []\n",
    "for data in zip(my_list, my_tuple):\n",
    "    my_data +=data\n",
    "    final_string = ''.join(my_data).capitalize()\n",
    "    # final_string =final_string+\"\".join(data).capitalize()\n",
    "print(final_string) # Elzero"
   ]
  },
  {
   "cell_type": "markdown",
   "metadata": {},
   "source": [
    "##### Task 2"
   ]
  },
  {
   "cell_type": "code",
   "execution_count": null,
   "metadata": {},
   "outputs": [],
   "source": [
    "my_list1 = [\"E\", \"L\", \"Z\", \"E\", \"R\", \"O\", 1, 2]\n",
    "my_tuple = (\"E\", \"Z\", \"R\", 1, 2, \"E\", \"R\", \"O\")\n",
    "my_list2 = (\"L\", \"E\", \"O\", 1, 2, \"E\", \"R\", \"O\")\n",
    "my_data = []\n",
    "\n",
    "for item1, item2, item3 in zip(my_list1, my_tuple, my_list2):\n",
    "    if item1 == str(item1):\n",
    "        my_data.append(item1)\n",
    "        finl_str=\"\".join(my_data).capitalize()\n",
    "\n",
    "print(finl_str)"
   ]
  },
  {
   "cell_type": "markdown",
   "metadata": {},
   "source": [
    "##### Task 3"
   ]
  },
  {
   "cell_type": "code",
   "execution_count": null,
   "metadata": {},
   "outputs": [],
   "source": [
    "from PIL import Image\n",
    "\n",
    "my_image=Image.open(r\"D:\\myFiles\\MasteringPython\\12_weekTwelve\\elzero-pillow.png\")\n",
    "my_box=(400,0,800,400)\n",
    "L_part=my_image.crop(my_box)\n",
    "my_image.show()\n",
    "L_part.show()\n",
    "L_part_gey=L_part.convert(\"L\")\n",
    "L_part_gey.show()\n",
    "L_part_gey.save('grayscale_image.jpg')\n",
    "my_sec_box=(0,400,1200,800)\n",
    "sec_row_image=my_image.crop(my_sec_box)\n",
    "sec_row_image.show()\n",
    "sec_row_image=sec_row_image.convert(\"L\").rotate(180)\n",
    "sec_row_image.show()\n",
    "sec_row_image.save('grayscale_image_sec_row.jpg')\n",
    "\n"
   ]
  },
  {
   "cell_type": "markdown",
   "metadata": {},
   "source": [
    "##### Task 4"
   ]
  },
  {
   "cell_type": "code",
   "execution_count": null,
   "metadata": {},
   "outputs": [],
   "source": [
    "def say_hello_to(name) -> str :\n",
    "    \"\"\"\n",
    "    parameter(someone) => Person Name\n",
    "    Function To Say Hello To Anyone\n",
    "    \"\"\"\n",
    "    \n",
    "    return f\"Hello {name}\"\n",
    "\n",
    "print(say_hello_to(\"Osama\")) \n",
    "print(say_hello_to.__doc__)\n",
    "help(say_hello_to)"
   ]
  },
  {
   "cell_type": "markdown",
   "metadata": {},
   "source": [
    "##### Task 5"
   ]
  },
  {
   "cell_type": "code",
   "execution_count": null,
   "metadata": {},
   "outputs": [],
   "source": [
    "# Task 5 is in the other file named \"Task_five.py\"\n",
    "# press ctrl and point the cursor to the text bellow\n",
    "\"Task_five.py\""
   ]
  },
  {
   "cell_type": "markdown",
   "metadata": {},
   "source": [
    "### Assignments For Lessons 90 To 94 "
   ]
  },
  {
   "cell_type": "markdown",
   "metadata": {},
   "source": [
    "##### Task 1"
   ]
  },
  {
   "cell_type": "code",
   "execution_count": null,
   "metadata": {},
   "outputs": [],
   "source": [
    "NUM = input(\"Add Your Number \")\n",
    "if len(NUM)>1:\n",
    "    raise IndexError(\"Only One Character Allowed\")\n",
    "elif NUM.isdigit():\n",
    "    if int(NUM) > 0:\n",
    "        print(\"#\"*22 + f\"\\nThe Number Is {NUM}\\n\"+\"#\"*22)\n",
    "    else:\n",
    "        raise ValueError(\"Number Must Be Larger Than 0.\")\n",
    "else:\n",
    "    raise Exception(\"Only Numbers Allowed\")\n"
   ]
  },
  {
   "cell_type": "markdown",
   "metadata": {},
   "source": [
    "##### Task 2"
   ]
  },
  {
   "cell_type": "code",
   "execution_count": null,
   "metadata": {},
   "outputs": [],
   "source": [
    "LEETER = input(\"Enter a letter from A to Z: \")\n",
    "try:    \n",
    "    if len(LEETER) != 1:\n",
    "        raise NameError\n",
    "    if not LEETER.isupper():\n",
    "        raise IndexError\n",
    "except NameError:\n",
    "    print(\"You Must Write One Character Only\")\n",
    "except IndexError:\n",
    "    print(\"The Letter Not In A - Z\")\n",
    "else:\n",
    "    print(\"You Typed:\",LEETER)"
   ]
  },
  {
   "cell_type": "markdown",
   "metadata": {},
   "source": [
    "##### Task 3"
   ]
  },
  {
   "cell_type": "code",
   "execution_count": null,
   "metadata": {},
   "outputs": [],
   "source": [
    "def calculate(num1, num2) -> int :\n",
    "    return num1 + num2\n",
    "\n",
    "print(calculate(20, 30))"
   ]
  }
 ],
 "metadata": {
  "kernelspec": {
   "display_name": "Python 3",
   "language": "python",
   "name": "python3"
  },
  "language_info": {
   "codemirror_mode": {
    "name": "ipython",
    "version": 3
   },
   "file_extension": ".py",
   "mimetype": "text/x-python",
   "name": "python",
   "nbconvert_exporter": "python",
   "pygments_lexer": "ipython3",
   "version": "3.11.4"
  },
  "orig_nbformat": 4
 },
 "nbformat": 4,
 "nbformat_minor": 2
}
