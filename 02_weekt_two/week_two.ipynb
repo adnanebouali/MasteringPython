{
 "cells": [
  {
   "cell_type": "markdown",
   "metadata": {},
   "source": [
    "### Assignments For Lessons 10 To 18"
   ]
  },
  {
   "cell_type": "markdown",
   "metadata": {},
   "source": [
    "##### Task 1"
   ]
  },
  {
   "cell_type": "code",
   "execution_count": null,
   "metadata": {},
   "outputs": [],
   "source": [
    "\n",
    "\n",
    "name,country,age=\"Adnane\",\"Algeria\",\"24\"\n",
    "print(\"\\\"Hello '\"+name+\"', How Are You Doing \\\\ \\\"\\\"\\\" Your Age is \\\"\"+ age +\"\\\"\\\" + And Your Country Is: \"+country)\n"
   ]
  },
  {
   "cell_type": "markdown",
   "metadata": {},
   "source": [
    "##### Task 2"
   ]
  },
  {
   "cell_type": "code",
   "execution_count": null,
   "metadata": {},
   "outputs": [],
   "source": [
    "print(\"\\\"Hello '\"+name+\"', How Are You Doing \\\\\\n \\\"\\\"\\\" Your Age is \\\"\"+ age +\"\\\"\\\" +\\n And Your Country Is: \"+country)"
   ]
  },
  {
   "cell_type": "markdown",
   "metadata": {},
   "source": [
    "##### Task 3"
   ]
  },
  {
   "cell_type": "code",
   "execution_count": null,
   "metadata": {},
   "outputs": [],
   "source": [
    "name = 'Elzero'\n",
    "print(\"Second Letter Is \"+name[1])\n",
    "print(\"Second Letter Is \"+name[2])\n",
    "print(\"Second Letter Is \"+name[-1])\n",
    "\n",
    "# Needed Output\n",
    "# Second Letter Is \"l\"\n",
    "# Third Letter Is \"z\"\n",
    "# Last Letter Is \"o\""
   ]
  },
  {
   "cell_type": "markdown",
   "metadata": {},
   "source": [
    "##### Task 4"
   ]
  },
  {
   "cell_type": "code",
   "execution_count": null,
   "metadata": {},
   "outputs": [],
   "source": [
    "name = 'Elzero'\n",
    "print(name[1:4])\n",
    "print(name[::2])\n",
    "print(name[4::-2])\n",
    "\n",
    "# Needed Output\n",
    "# \"lze\"\n",
    "# \"Ezr\"\n",
    "# \"rzE\""
   ]
  },
  {
   "cell_type": "markdown",
   "metadata": {},
   "source": [
    "##### Task 5"
   ]
  },
  {
   "cell_type": "code",
   "execution_count": null,
   "metadata": {},
   "outputs": [],
   "source": [
    "name = \"#@#@Elzero#@#@\"\n",
    "print(name.strip(\"#@\"))\n",
    "\n",
    "# Needed Output\n",
    "# Elzero"
   ]
  },
  {
   "cell_type": "markdown",
   "metadata": {},
   "source": [
    "##### Task 6"
   ]
  },
  {
   "cell_type": "code",
   "execution_count": null,
   "metadata": {},
   "outputs": [],
   "source": [
    "num = \"9\"\n",
    "print(num.zfill(4))\n",
    "num = \"15\"\n",
    "print(num.zfill(4))\n",
    "num = \"130\"\n",
    "print(num.zfill(4))\n",
    "num = \"950\"\n",
    "print(num.zfill(4))\n",
    "num = \"1500\"\n",
    "print(num.zfill(4))\n",
    "# Needed Output\n",
    "# 0009\n",
    "# 0015\n",
    "# 0130\n",
    "# 0950\n",
    "# 1500"
   ]
  },
  {
   "cell_type": "markdown",
   "metadata": {},
   "source": [
    "##### Task 7"
   ]
  },
  {
   "cell_type": "code",
   "execution_count": null,
   "metadata": {},
   "outputs": [],
   "source": [
    "name_one = \"Osama\"\n",
    "name_two = \"Osama_Elzero\"\n",
    "print(name_one.rjust(20,\"@\"))\n",
    "print(name_two.rjust(20,\"@\"))\n",
    "\n",
    "# Needed Output\n",
    "# @@@@@@@@@@@@@@@Osama\n",
    "# @@@@@@@@Osama_Elzero"
   ]
  },
  {
   "cell_type": "markdown",
   "metadata": {},
   "source": [
    "##### Task 8"
   ]
  },
  {
   "cell_type": "code",
   "execution_count": null,
   "metadata": {},
   "outputs": [],
   "source": [
    "name_one = \"OSamA\"\n",
    "name_two = \"osaMA\"\n",
    "print(name_one.swapcase())\n",
    "print(name_two.swapcase())\n",
    "\n",
    "# Needed Output\n",
    "# osAMa\n",
    "# OSAma"
   ]
  },
  {
   "cell_type": "markdown",
   "metadata": {},
   "source": [
    "##### Task 9"
   ]
  },
  {
   "cell_type": "code",
   "execution_count": null,
   "metadata": {},
   "outputs": [],
   "source": [
    "msg = \"I Love Python And Although Love Elzero Web School\"\n",
    "print(msg.count(\"Love\"))\n",
    "# Needed Output\n",
    "# 2"
   ]
  },
  {
   "cell_type": "markdown",
   "metadata": {},
   "source": [
    "##### Task 10"
   ]
  },
  {
   "cell_type": "code",
   "execution_count": null,
   "metadata": {},
   "outputs": [],
   "source": [
    "name = \"Elzero\"\n",
    "print(name.find(\"z\"))\n",
    "# Needed Output\n",
    "# 2"
   ]
  },
  {
   "cell_type": "markdown",
   "metadata": {},
   "source": [
    "##### Task 11"
   ]
  },
  {
   "cell_type": "code",
   "execution_count": null,
   "metadata": {},
   "outputs": [],
   "source": [
    "msg = \"I <3 Python And Although <3 Elzero Web School\"\n",
    "print(msg.replace(\"<3\",\"Love\",1))\n",
    "# Needed Output\n",
    "# I Love Python And Although <3 Elzero Web School"
   ]
  },
  {
   "cell_type": "markdown",
   "metadata": {},
   "source": [
    "##### Task 12"
   ]
  },
  {
   "cell_type": "code",
   "execution_count": null,
   "metadata": {},
   "outputs": [],
   "source": [
    "msg = \"I <3 Python And Although <3 Elzero Web School\"\n",
    "print(msg.replace(\"<3\", \"Love\"))\n",
    "# Needed Output\n",
    "# I Love Python And Although Love Elzero Web School"
   ]
  },
  {
   "cell_type": "markdown",
   "metadata": {},
   "source": [
    "##### Task 13"
   ]
  },
  {
   "cell_type": "code",
   "execution_count": null,
   "metadata": {},
   "outputs": [],
   "source": [
    "name = \"Osama\"\n",
    "age = 38\n",
    "country = \"Egypt\"\n",
    "print(\"My Name Is %s, And My Age Is %d, And My Country Is %s\" % (name,age,country))\n",
    "print(\"My Name Is {:s}, And My Age Is {:d}, And My Country Is {:s}\".format(name,age,country))\n",
    "print(f\"My Name Is {name}, And My Age Is {age}, And My Country Is {country}\")\n"
   ]
  }
 ],
 "metadata": {
  "kernelspec": {
   "display_name": "Python 3",
   "language": "python",
   "name": "python3"
  },
  "language_info": {
   "codemirror_mode": {
    "name": "ipython",
    "version": 3
   },
   "file_extension": ".py",
   "mimetype": "text/x-python",
   "name": "python",
   "nbconvert_exporter": "python",
   "pygments_lexer": "ipython3",
   "version": "3.11.4"
  },
  "orig_nbformat": 4,
  "vscode": {
   "interpreter": {
    "hash": "d658b133f4c4e6581a68115e99492bc32b11e2b5867c5478d52baa91164a50f4"
   }
  }
 },
 "nbformat": 4,
 "nbformat_minor": 2
}
