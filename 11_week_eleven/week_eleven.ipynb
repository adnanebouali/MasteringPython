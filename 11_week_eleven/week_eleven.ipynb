{
 "cells": [
  {
   "cell_type": "markdown",
   "metadata": {},
   "source": [
    "### Assignments For Lessons 76 To 78 "
   ]
  },
  {
   "cell_type": "markdown",
   "metadata": {},
   "source": [
    "##### Task 1"
   ]
  },
  {
   "cell_type": "code",
   "execution_count": null,
   "metadata": {},
   "outputs": [],
   "source": [
    "import random\n",
    "print(f\"Random Number Between 10 And 50 => {random.randint(10,50)}\")\n",
    "print(f\"Random Even Number Between 2 And 10 => {random.randrange(2,10,2)}\")\n",
    "print(f\"Random Odd Number Between 1 And 9 => {random.randrange(1,9,2)}\")"
   ]
  },
  {
   "cell_type": "markdown",
   "metadata": {},
   "source": [
    "##### Task 2"
   ]
  },
  {
   "cell_type": "code",
   "execution_count": null,
   "metadata": {},
   "outputs": [],
   "source": [
    "# import my_mod\n",
    "name = input(\"Enter your name : \").strip().capitalize()\n",
    "# print(my_mod.say_hello(name))\n",
    "# print(my_mod.say_welcome(name))\n",
    "\n",
    "# task 3\n",
    "# from my_mod import say_welcome\n",
    "# print(say_welcome(name))\n",
    "\n",
    "# Task 4\n",
    "from my_mod import say_welcome as new_welcome\n",
    "print(new_welcome(name))\n",
    "\n"
   ]
  },
  {
   "cell_type": "markdown",
   "metadata": {},
   "source": [
    "### Assignments For Lessons 79 To 80 "
   ]
  },
  {
   "cell_type": "markdown",
   "metadata": {},
   "source": [
    "##### Task 1"
   ]
  },
  {
   "cell_type": "code",
   "execution_count": null,
   "metadata": {},
   "outputs": [],
   "source": [
    "import datetime\n",
    "\n",
    "mydate=datetime.datetime(2021, 6, 25)\n",
    "today=datetime.datetime.now()\n",
    "print(f\"Days From {mydate.date()} To {today.date()} are => {(today-mydate).days} Days\")"
   ]
  },
  {
   "cell_type": "markdown",
   "metadata": {},
   "source": [
    "##### Task 2"
   ]
  },
  {
   "cell_type": "code",
   "execution_count": null,
   "metadata": {},
   "outputs": [],
   "source": [
    "\n",
    "print(datetime.datetime.now().strftime(\"%Y-%m-%d\"))\n",
    "print(datetime.datetime.now().strftime(\"%b %d, %Y\"))\n",
    "print(datetime.datetime.now().strftime(\"%d - %b - %Y\"))\n",
    "print(datetime.datetime.now().strftime(\"%d / %B / %y\"))\n",
    "print(datetime.datetime.now().strftime(\"%d / %B / %Y\"))\n",
    "print(datetime.datetime.now().strftime(\"%a, %d %B %Y\"))"
   ]
  },
  {
   "cell_type": "markdown",
   "metadata": {},
   "source": [
    "### Assignments For Lessons 81 To 85 "
   ]
  },
  {
   "cell_type": "markdown",
   "metadata": {},
   "source": [
    "##### Task 1"
   ]
  },
  {
   "cell_type": "code",
   "execution_count": null,
   "metadata": {},
   "outputs": [],
   "source": [
    "def reverse_string(my_string):\n",
    "    length = len(my_string)\n",
    "    for i in range(length -1, -1, -1):\n",
    "        yield my_string[i]    \n",
    "\n",
    "for c in reverse_string(\"Elzero\"):\n",
    "    print(c)"
   ]
  },
  {
   "cell_type": "markdown",
   "metadata": {},
   "source": [
    "##### Task 2"
   ]
  },
  {
   "cell_type": "code",
   "execution_count": null,
   "metadata": {},
   "outputs": [],
   "source": [
    "def myDeco(func):\n",
    "    def sugarfunc():\n",
    "        print(\"Sugar Added From Decorators\")\n",
    "        func()\n",
    "        print(\"#\"*27)\n",
    "    return sugarfunc\n",
    "@myDeco\n",
    "def make_tea():\n",
    "    print(\"Tea Created\")\n",
    "\n",
    "@myDeco\n",
    "def make_coffe():\n",
    "    print(\"Coffe Created\")\n",
    "\n",
    "make_tea()\n",
    "make_coffe()"
   ]
  }
 ],
 "metadata": {
  "kernelspec": {
   "display_name": "Python 3",
   "language": "python",
   "name": "python3"
  },
  "language_info": {
   "codemirror_mode": {
    "name": "ipython",
    "version": 3
   },
   "file_extension": ".py",
   "mimetype": "text/x-python",
   "name": "python",
   "nbconvert_exporter": "python",
   "pygments_lexer": "ipython3",
   "version": "3.11.4"
  },
  "orig_nbformat": 4
 },
 "nbformat": 4,
 "nbformat_minor": 2
}
