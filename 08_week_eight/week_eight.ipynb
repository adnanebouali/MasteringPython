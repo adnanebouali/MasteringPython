{
 "cells": [
  {
   "cell_type": "markdown",
   "metadata": {},
   "source": [
    "### Assignments For Lessons 56 To 59"
   ]
  },
  {
   "cell_type": "markdown",
   "metadata": {},
   "source": [
    "##### Task 1"
   ]
  },
  {
   "cell_type": "code",
   "execution_count": null,
   "metadata": {},
   "outputs": [],
   "source": [
    "def calculate(num1,num2,op=\"a\"):\n",
    "    op=op[0].strip().lower()\n",
    "    if op not in [\"a\",\"s\",\"m\"]:\n",
    "        print(\"error, Operator invalid\")\n",
    "    else:\n",
    "        if op==\"a\":\n",
    "            print(num1+num2)\n",
    "        elif op==\"s\":\n",
    "            print(num1-num2)\n",
    "        else:\n",
    "            print(num1*num2)\n",
    "calculate(10, 20)\n",
    "calculate(10, 20, \"AdD\")\n",
    "calculate(10, 20, \"a\")\n",
    "calculate(10, 20, \"A\")\n",
    "calculate(10, 20, \"S\")\n",
    "calculate(10, 20, \"subTRACT\")\n",
    "calculate(10, 20, \"Multiply\")\n",
    "calculate(10, 20, \"m\")"
   ]
  },
  {
   "cell_type": "markdown",
   "metadata": {},
   "source": [
    "##### Task 2"
   ]
  },
  {
   "cell_type": "code",
   "execution_count": null,
   "metadata": {},
   "outputs": [],
   "source": [
    "def addition(*numbers):\n",
    "    sum=0\n",
    "    for num in numbers:\n",
    "        if num == 10:\n",
    "            continue\n",
    "        elif num == 5:\n",
    "            sum -=num\n",
    "            continue\n",
    "        sum +=num\n",
    "    print(sum)\n",
    "    \n",
    "addition(10, 20, 30, 10, 15)\n",
    "addition(10, 20, 30, 10, 15, 5, 100)"
   ]
  },
  {
   "cell_type": "markdown",
   "metadata": {},
   "source": [
    "##### Task 3"
   ]
  },
  {
   "cell_type": "code",
   "execution_count": null,
   "metadata": {},
   "outputs": [],
   "source": [
    "def show_skills(name,*skills):\n",
    "    if len(skills)>0:\n",
    "        print(f\"Hello {name} Your Skills are\")\n",
    "        for skill in skills:\n",
    "            print(f\"-{skill}\")\n",
    "    else:\n",
    "        print(f\"Hello {name} You Have No Skills To Show.\")\n",
    "\n",
    "show_skills(\"Osama\", \"HTML\", \"CSS\", \"JS\", \"Python\")\n",
    "show_skills(\"Ahmed\")"
   ]
  },
  {
   "cell_type": "markdown",
   "metadata": {},
   "source": [
    "##### Task 4"
   ]
  },
  {
   "cell_type": "code",
   "execution_count": null,
   "metadata": {},
   "outputs": [],
   "source": [
    "def say_hello(name = \"Uknown\",age = \"Uknown\",country = \"Uknown\"):\n",
    "    print(f\"Hello {name} Your Age Is {age} And You Live In {country}\")\n",
    "say_hello(\"Osama\", 38, \"Egypt\")\n",
    "say_hello()"
   ]
  },
  {
   "cell_type": "markdown",
   "metadata": {},
   "source": [
    "### Assignments For Lessons 60 To 64"
   ]
  },
  {
   "cell_type": "markdown",
   "metadata": {},
   "source": [
    "##### Task 1"
   ]
  },
  {
   "cell_type": "code",
   "execution_count": null,
   "metadata": {},
   "outputs": [],
   "source": [
    "def get_score(**skills):\n",
    "    for skill,score in skills.items():\n",
    "        print(f\"{skill} => {score}%\")\n",
    "\n",
    "get_score(Math=90, Science=80, Language=70)\n",
    "get_score(Logic=70, Problems=60)"
   ]
  },
  {
   "cell_type": "markdown",
   "metadata": {},
   "source": [
    "##### Task 2"
   ]
  },
  {
   "cell_type": "code",
   "execution_count": null,
   "metadata": {},
   "outputs": [],
   "source": [
    "def get_people_scores(name=\"\",**skills):\n",
    "    if len(skills)>0:\n",
    "        if name != \"\":\n",
    "            print(f\"Hello {name} Your Skills are\")\n",
    "            for skill,score in skills.items():\n",
    "                print(f\"{skill} => {score}%\")\n",
    "        else:\n",
    "            for skill,score in skills.items():\n",
    "                print(f\"{skill} => {score}%\")\n",
    "    else:\n",
    "        print(f\"Hello {name} You Have No Skills To Show.\")\n",
    "        \n",
    "get_people_scores(\"Osama\", Math=90, Science=80, Language=70)\n",
    "print(\"-\"*50)\n",
    "get_people_scores(\"Mahmoud\", Logic=70, Problems=60)\n",
    "print(\"-\"*50)\n",
    "get_people_scores(Logic=70, Problems=60)\n",
    "print(\"-\"*50)\n",
    "get_people_scores(\"Ahmed\")"
   ]
  },
  {
   "cell_type": "markdown",
   "metadata": {},
   "source": [
    "##### Task 3"
   ]
  },
  {
   "cell_type": "code",
   "execution_count": null,
   "metadata": {},
   "outputs": [],
   "source": [
    "def get_the_scores(name=\"\",**skills):\n",
    "    if len(skills)>0:\n",
    "        if name != \"\":\n",
    "            print(f\"Hello {name} Your Skills are\")\n",
    "            for skill,score in skills.items():\n",
    "                print(f\"{skill} => {score}%\")\n",
    "        else:\n",
    "            for skill,score in skills.items():\n",
    "                print(f\"{skill} => {score}%\")\n",
    "    else:\n",
    "        print(f\"Hello {name} You Have No Skills To Show.\")\n",
    "        \n",
    "scores_list={\n",
    "    \"Math\" : 90,\n",
    "\"Science\" : 80,\n",
    "\"Language\" : 70\n",
    "}\n",
    "\n",
    "get_the_scores(\"Osama\", **scores_list)\n",
    "print(\"-\"*50)\n",
    "get_the_scores(\"Osamasss\")\n",
    "print(\"-\"*50)\n",
    "get_the_scores(**scores_list)"
   ]
  }
 ],
 "metadata": {
  "kernelspec": {
   "display_name": "Python 3",
   "language": "python",
   "name": "python3"
  },
  "language_info": {
   "codemirror_mode": {
    "name": "ipython",
    "version": 3
   },
   "file_extension": ".py",
   "mimetype": "text/x-python",
   "name": "python",
   "nbconvert_exporter": "python",
   "pygments_lexer": "ipython3",
   "version": "3.11.4"
  },
  "orig_nbformat": 4
 },
 "nbformat": 4,
 "nbformat_minor": 2
}
