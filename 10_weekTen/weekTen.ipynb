{
 "cells": [
  {
   "cell_type": "code",
   "execution_count": null,
   "metadata": {},
   "outputs": [],
   "source": [
    "# Assignments For Lessons 69 To 71\n",
    "# Task 1\n",
    "values = (0, 1, 2)\n",
    "\n",
    "if any(values):\n",
    "\n",
    "    my_var = 0\n",
    "\n",
    "my_list = [True, 1,  1, [\"A\", \"B\"], 10.5, my_var]\n",
    "\n",
    "if all(my_list[:4]) or all(my_list[:6]) or all(my_list[:]):\n",
    "\n",
    "    print(\"Good\")\n",
    "\n",
    "else:\n",
    "\n",
    "    print(\"Bad\")"
   ]
  },
  {
   "cell_type": "code",
   "execution_count": null,
   "metadata": {},
   "outputs": [],
   "source": [
    "# Task 2\n",
    "v = 40\n",
    "my_range = list(range(v))\n",
    "print(sum(my_range, v) + pow(v, v, v))  # 820"
   ]
  },
  {
   "cell_type": "code",
   "execution_count": null,
   "metadata": {},
   "outputs": [],
   "source": [
    "# Task 3\n",
    "n = 20\n",
    "\n",
    "l = list(range(n))\n",
    "\n",
    "if round(sum(l) / n) == max(0, 3, 10, 2, -100, -23, 9):\n",
    "\n",
    "    print(\"Good\")\n",
    "\n",
    "# Output => Good"
   ]
  },
  {
   "cell_type": "code",
   "execution_count": null,
   "metadata": {},
   "outputs": [],
   "source": [
    "# Task 4\n",
    "def my_all(mydata) :\n",
    "    value=True\n",
    "    for elmnt in mydata:\n",
    "        if bool(elmnt) == False:\n",
    "            value = False\n",
    "    return value\n",
    "\n",
    "def my_any(mydata) :\n",
    "    value=False\n",
    "    for elmnt in mydata:\n",
    "        if bool(elmnt) == True:\n",
    "            value = True\n",
    "    return value\n",
    "\n",
    "def my_min(mydata):\n",
    "    minm = mydata[0]\n",
    "    for num in mydata:\n",
    "        if num < minm:\n",
    "            minm =num\n",
    "    return minm\n",
    "\n",
    "def my_max(mydata):\n",
    "    maxm = mydata[0]\n",
    "    for num in mydata:\n",
    "        if num > maxm:\n",
    "            maxm =num\n",
    "    return maxm\n",
    "\n",
    "print(my_all([1, 2, 3])) # True\n",
    "print(my_all([1, 2, 3, []])) # False\n",
    "print(my_any([0, 1, [], False])) # True\n",
    "print(my_any([(), 0, False])) # False\n",
    "print(my_min([10, 100, -20, -100, 50])) # -100\n",
    "print(my_min((10, 100, -20, -100, 50))) # -100\n",
    "print(my_max([10, 100, -20, -100, 50, 700])) # 700\n",
    "print(my_max((10, 100, -20, -100, 50, 700))) # 700\n",
    "\n"
   ]
  },
  {
   "cell_type": "code",
   "execution_count": null,
   "metadata": {},
   "outputs": [],
   "source": [
    "# Assignments For Lessons 72 To 75\n",
    "# Task 1\n",
    "friends_map = [\"AEmanS\", \"AAhmedS\", \"DSamehF\", \"LOsamaL\"]\n",
    "def remove_chars(name):\n",
    "    return name[1:-1]\n",
    "cleaned_list=map(remove_chars,friends_map)\n",
    "for name in cleaned_list:\n",
    "    print(name)\n",
    "# Lambda func \n",
    "for name in map(lambda name : name[1:-1] ,friends_map):\n",
    "    print(name)"
   ]
  },
  {
   "cell_type": "code",
   "execution_count": null,
   "metadata": {},
   "outputs": [],
   "source": [
    "# Task 2\n",
    "friends_filter = [\"Osama\", \"Wessam\", \"Amal\", \"Essam\", \"Gamal\", \"Othman\"]\n",
    "def get_names(name):\n",
    "    return name[-1:]== \"m\"\n",
    "names =filter(get_names,friends_filter)\n",
    "for name in names:\n",
    "    print(name)\n",
    "# Lambda func \n",
    "for name in filter(lambda name : name[-1:]== \"m\",friends_filter):\n",
    "    print(name)"
   ]
  },
  {
   "cell_type": "code",
   "execution_count": null,
   "metadata": {},
   "outputs": [],
   "source": [
    "# Task 3\n",
    "from functools import reduce\n",
    "\n",
    "nums = [2, 4, 6, 2]\n",
    "def mult(numone,numtwo):\n",
    "    return numone * numtwo\n",
    "\n",
    "myresult=reduce(mult,nums)\n",
    "print(myresult)\n",
    "# lambda fun \n",
    "print(reduce((lambda num1 , num2 : num1 * num2) ,nums))\n"
   ]
  },
  {
   "cell_type": "code",
   "execution_count": null,
   "metadata": {},
   "outputs": [],
   "source": [
    "# Task 4\n",
    "skills = (\"HTML\", \"CSS\", 10, \"PHP\", \"Python\", 20, \"JavaScript\")\n",
    "counterSkills = enumerate(reversed(skills),50)\n",
    "for counter ,skill in counterSkills:\n",
    "    if type(skill) is not str:\n",
    "        continue\n",
    "    else:\n",
    "        print(f\"{counter} - {skill}\")"
   ]
  }
 ],
 "metadata": {
  "kernelspec": {
   "display_name": "Python 3",
   "language": "python",
   "name": "python3"
  },
  "language_info": {
   "codemirror_mode": {
    "name": "ipython",
    "version": 3
   },
   "file_extension": ".py",
   "mimetype": "text/x-python",
   "name": "python",
   "nbconvert_exporter": "python",
   "pygments_lexer": "ipython3",
   "version": "3.11.4"
  },
  "orig_nbformat": 4
 },
 "nbformat": 4,
 "nbformat_minor": 2
}
