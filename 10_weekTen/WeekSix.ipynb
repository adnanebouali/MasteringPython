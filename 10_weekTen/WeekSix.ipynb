{
 "cells": [
  {
   "cell_type": "code",
   "execution_count": null,
   "metadata": {},
   "outputs": [],
   "source": [
    "# Assignments For Lessons 41 To 46\n",
    "# Task 1\n",
    "NumberOne = int(input(\"Number One:\"))\n",
    "NumberTwo = int(input(\"Number Two:\"))\n",
    "op = input(\"choose your operator '+' Or '-' Or '*' Or '/' Or '%' \").strip().lower()\n",
    "\n",
    "if op == \"+\":\n",
    "    print(f\"{NumberOne} + {NumberTwo} = {NumberOne+NumberTwo}\")\n",
    "elif op == \"-\":\n",
    "    print(f\"{NumberOne} - {NumberTwo} = {NumberOne-NumberTwo}\")\n",
    "elif op == \"*\":\n",
    "    print(f\"{NumberOne} * {NumberTwo} = {NumberOne*NumberTwo}\")\n",
    "elif op == \"/\":\n",
    "    if NumberTwo == 0:\n",
    "        print(\"You can't divide a number by 0\")\n",
    "    else:\n",
    "        print(f\"{NumberOne} / {NumberTwo} = {NumberOne/NumberTwo}\")\n",
    "elif op == \"%\":\n",
    "    if NumberTwo == 0:\n",
    "        print(\"You can't divide a number by 0\")\n",
    "    else:\n",
    "        print(f\"{NumberOne} / {NumberTwo} = {NumberOne/NumberTwo}\")\n",
    "else:\n",
    "    print(\"No Operators found\\nTry another one\")"
   ]
  },
  {
   "cell_type": "code",
   "execution_count": null,
   "metadata": {},
   "outputs": [],
   "source": [
    "# Task 2\n",
    "Age = int(input(\"Enter your Age:\").strip())\n",
    "print(\"App Is Suitable For You\" if Age > 16 else \"App Is Not Suitable For You\")"
   ]
  },
  {
   "cell_type": "code",
   "execution_count": null,
   "metadata": {},
   "outputs": [],
   "source": [
    "# Task 3\n",
    "age = int(input(\"Enter your Age : \").strip())\n",
    "months = age * 12\n",
    "weeks = months * 4\n",
    "days = age * 365\n",
    "minutes = days * 60\n",
    "seconds = minutes * 60\n",
    "if age > 10 and age < 100:\n",
    "    print(f\"Your Age In Months Is {months:,} Month\")\n",
    "    print(f\"Your Age In weeks Is {weeks:,} week\")\n",
    "    print(f\"Your Age In days Is {days:,} day\")\n",
    "    print(f\"Your Age In minutes Is {minutes:,} minute\")\n",
    "    print(f\"Your Age In seconds Is {seconds:,} second\")\n",
    "else:\n",
    "    print(\"The age is out of range\")"
   ]
  },
  {
   "cell_type": "code",
   "execution_count": null,
   "metadata": {},
   "outputs": [],
   "source": [
    "# Task 4\n",
    "country = input(\"Input Your Country\").strip().capitalize()\n",
    "countries = [\"Egypt\", \"Palestine\", \"Syria\", \"Yemen\", \"KSA\", \"USA\", \"Bahrain\", \"England\"]\n",
    "price = 100\n",
    "discount = 30\n",
    "if country in countries:\n",
    "    print(\n",
    "        f\"Your Country Eligible For Discount And The Price After Discount Is {price - discount}\")\n",
    "else:\n",
    "    print(\n",
    "        \"Your Country Not Eligible For Discount And The Price Is {:d}\".format(price))"
   ]
  },
  {
   "cell_type": "code",
   "execution_count": null,
   "metadata": {},
   "outputs": [],
   "source": [
    "# Assignments For Lessons 41 To 46\n",
    "# Task 1"
   ]
  }
 ],
 "metadata": {
  "kernelspec": {
   "display_name": "Python 3",
   "language": "python",
   "name": "python3"
  },
  "language_info": {
   "codemirror_mode": {
    "name": "ipython",
    "version": 3
   },
   "file_extension": ".py",
   "mimetype": "text/x-python",
   "name": "python",
   "nbconvert_exporter": "python",
   "pygments_lexer": "ipython3",
   "version": "3.11.4"
  },
  "orig_nbformat": 4
 },
 "nbformat": 4,
 "nbformat_minor": 2
}
